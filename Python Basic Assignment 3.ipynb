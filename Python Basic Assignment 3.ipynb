{
 "cells": [
  {
   "cell_type": "code",
   "execution_count": null,
   "id": "86d52092",
   "metadata": {},
   "outputs": [],
   "source": [
    "1. Why are functions advantageous to have in your programs?"
   ]
  },
  {
   "cell_type": "markdown",
   "id": "3c250e8a",
   "metadata": {},
   "source": [
    "ANS:\n",
    "    It is very tedious to write the same line of code again and again so we define \n",
    "    functions in our program to acheive the given target.\n",
    "    The advantages are:\n",
    "\n",
    "    1.Functions makes the programme shorter, \n",
    "    2.Reuse of the code\n",
    "    3.Functions are easier to read, easier to update\n",
    "    4.Reducing duplication of code, \n",
    "    5.It hides Information from others\n",
    "    "
   ]
  },
  {
   "cell_type": "code",
   "execution_count": null,
   "id": "ee4ab82a",
   "metadata": {},
   "outputs": [],
   "source": [
    "2. When does the code in a function run: when it's specified or when it's called?"
   ]
  },
  {
   "cell_type": "markdown",
   "id": "d8b7f590",
   "metadata": {},
   "source": [
    "ANS:\n",
    "The code in a function runs whenever we calls it."
   ]
  },
  {
   "cell_type": "code",
   "execution_count": null,
   "id": "8eb8a61b",
   "metadata": {},
   "outputs": [],
   "source": [
    "3. What statement creates a function?"
   ]
  },
  {
   "cell_type": "markdown",
   "id": "e9d13392",
   "metadata": {},
   "source": [
    "ANS:\n",
    "    The below statement creates a function\n",
    "Def syed(a):\n",
    "    return a \n",
    "where def is a keyword , syed is a name, and, a is an argument within parenthesis ending with semicolon"
   ]
  },
  {
   "cell_type": "code",
   "execution_count": null,
   "id": "1510cf52",
   "metadata": {},
   "outputs": [],
   "source": [
    "4. What is the difference between a function and a function call?"
   ]
  },
  {
   "cell_type": "markdown",
   "id": "bbb1fffe",
   "metadata": {},
   "source": [
    "ANS:\n",
    "In Python its difficult to write the same code again and again so we use functions.\n",
    "\n",
    "Function is the set of procedure which is defined to acheive the certain target given,\n",
    "\n",
    "Function call means calling a function which we had defined to acheive the target,\n",
    "unless and until a function is not called we cannot make use of that function which we had \n",
    "defined to acheive a certain target."
   ]
  },
  {
   "cell_type": "code",
   "execution_count": null,
   "id": "0f8253be",
   "metadata": {},
   "outputs": [],
   "source": [
    "5. How many global scopes are there in a Python program? How many local scopes?"
   ]
  },
  {
   "cell_type": "markdown",
   "id": "a964f2da",
   "metadata": {},
   "source": [
    "ANS:\n",
    "    There is one Global and one Local variable available in Python.\n",
    "    \n",
    "    Local variable is declared inside a function\n",
    "    Global variable is declared outside the function ."
   ]
  },
  {
   "cell_type": "code",
   "execution_count": null,
   "id": "04680b99",
   "metadata": {},
   "outputs": [],
   "source": [
    "6. What happens to variables in a local scope when the function call returns?"
   ]
  },
  {
   "cell_type": "markdown",
   "id": "37edc322",
   "metadata": {},
   "source": [
    "ANS:\n",
    "Whenever the function call returns the local variables are destroyed."
   ]
  },
  {
   "cell_type": "code",
   "execution_count": null,
   "id": "30259b64",
   "metadata": {},
   "outputs": [],
   "source": [
    "7. What is the concept of a return value? Is it possible to have a return value in an expression?"
   ]
  },
  {
   "cell_type": "markdown",
   "id": "457eaf6c",
   "metadata": {},
   "source": [
    "ANS:\n",
    "    A return is a value that a function returns to the function when it completes its task.\n",
    "A return value can be any one of the four variable types: handle, integer, object, or string.\n",
    "The type of value your function returns depends largely on the task it performs.\n",
    "Yes it is possible to use return value in an expression."
   ]
  },
  {
   "cell_type": "code",
   "execution_count": null,
   "id": "91e546c1",
   "metadata": {},
   "outputs": [],
   "source": [
    "8. If a function does not have a return statement, what is the return value of a call to that function?"
   ]
  },
  {
   "cell_type": "code",
   "execution_count": null,
   "id": "9c135bf0",
   "metadata": {},
   "outputs": [],
   "source": [
    "ANS:\n",
    "If a function doesnt have a return statement, we will either use print statement to get an output but \n",
    "print statement will give us the none type for which we cannot perform primitive opearations.Otherwise we will \n",
    "get an indented block error.\n",
    "\n",
    "# the execution is as shown below\n"
   ]
  },
  {
   "cell_type": "code",
   "execution_count": 1,
   "id": "ca505520",
   "metadata": {},
   "outputs": [
    {
     "name": "stdout",
     "output_type": "stream",
     "text": [
      "3\n"
     ]
    }
   ],
   "source": [
    "a=int(input())\n",
    "def test1(a):\n",
    "    if a==int:\n",
    "        print(\"the value is \",a)\n",
    "    "
   ]
  },
  {
   "cell_type": "code",
   "execution_count": 2,
   "id": "2ed7f4cc",
   "metadata": {},
   "outputs": [
    {
     "ename": "SyntaxError",
     "evalue": "unexpected EOF while parsing (<ipython-input-2-514fab752dc1>, line 3)",
     "output_type": "error",
     "traceback": [
      "\u001b[1;36m  File \u001b[1;32m\"<ipython-input-2-514fab752dc1>\"\u001b[1;36m, line \u001b[1;32m3\u001b[0m\n\u001b[1;33m    if a==int:\u001b[0m\n\u001b[1;37m              ^\u001b[0m\n\u001b[1;31mSyntaxError\u001b[0m\u001b[1;31m:\u001b[0m unexpected EOF while parsing\n"
     ]
    }
   ],
   "source": [
    "a=int(input())\n",
    "def test1(a):\n",
    "    if a==int:"
   ]
  },
  {
   "cell_type": "code",
   "execution_count": null,
   "id": "74da7e34",
   "metadata": {},
   "outputs": [],
   "source": [
    "9. How do you make a function variable refer to the global variable?"
   ]
  },
  {
   "cell_type": "code",
   "execution_count": 17,
   "id": "7c495674",
   "metadata": {},
   "outputs": [],
   "source": [
    "ANS:\n",
    "    To refer  a global variable in a function, you can use the global keyword to declare which variables are global.\n",
    "    here the global variable is a=5,where the functions variable are 'b,c'\n",
    "    when we are calling the function check the value of b is assigned to 'a' as shown below\n",
    "\n",
    "a = 5\n",
    "def f(b,c):\n",
    "    return a+c"
   ]
  },
  {
   "cell_type": "code",
   "execution_count": 19,
   "id": "26686a8e",
   "metadata": {},
   "outputs": [
    {
     "data": {
      "text/plain": [
       "10"
      ]
     },
     "execution_count": 19,
     "metadata": {},
     "output_type": "execute_result"
    }
   ],
   "source": [
    "f(4,5)\n",
    "    here b=4 but we are reassigning the value of b as 5"
   ]
  },
  {
   "cell_type": "code",
   "execution_count": null,
   "id": "628f1a4c",
   "metadata": {},
   "outputs": [],
   "source": [
    "10. What is the data type of None?"
   ]
  },
  {
   "cell_type": "markdown",
   "id": "d05f4862",
   "metadata": {},
   "source": [
    "ANS:\n",
    "    None is a data type of its own (NoneType) and only None can be None.\n",
    "    The None keyword is used to define a null value, or no value at all. "
   ]
  },
  {
   "cell_type": "code",
   "execution_count": null,
   "id": "4b340998",
   "metadata": {},
   "outputs": [],
   "source": [
    "11. What does the sentence import areallyourpetsnamederic do?"
   ]
  },
  {
   "cell_type": "code",
   "execution_count": 15,
   "id": "d449dc42",
   "metadata": {},
   "outputs": [
    {
     "ename": "ModuleNotFoundError",
     "evalue": "No module named 'areallyourpetsnamederic'",
     "output_type": "error",
     "traceback": [
      "\u001b[1;31m---------------------------------------------------------------------------\u001b[0m",
      "\u001b[1;31mModuleNotFoundError\u001b[0m                       Traceback (most recent call last)",
      "\u001b[1;32m<ipython-input-15-b1ea9cb2228f>\u001b[0m in \u001b[0;36m<module>\u001b[1;34m\u001b[0m\n\u001b[1;32m----> 1\u001b[1;33m \u001b[1;32mimport\u001b[0m \u001b[0mareallyourpetsnamederic\u001b[0m\u001b[1;33m\u001b[0m\u001b[1;33m\u001b[0m\u001b[0m\n\u001b[0m",
      "\u001b[1;31mModuleNotFoundError\u001b[0m: No module named 'areallyourpetsnamederic'"
     ]
    }
   ],
   "source": [
    "import areallyourpetsnamederic\n",
    "There is no module with this name in Python."
   ]
  },
  {
   "cell_type": "code",
   "execution_count": null,
   "id": "8b2b08e1",
   "metadata": {},
   "outputs": [],
   "source": [
    "12. If you had a bacon() feature in a spam module, what would you call it after importing spam?"
   ]
  },
  {
   "cell_type": "markdown",
   "id": "65789dbc",
   "metadata": {},
   "source": [
    "ANS:\n",
    "    This function can be called with spam.bacon()"
   ]
  },
  {
   "cell_type": "code",
   "execution_count": null,
   "id": "f2efcaaa",
   "metadata": {},
   "outputs": [],
   "source": [
    "13. What can you do to save a programme from crashing if it encounters an error?"
   ]
  },
  {
   "cell_type": "markdown",
   "id": "9b70e3d6",
   "metadata": {},
   "source": [
    "ANS:\n",
    "It is common to get an error in Python programme,the only way to encounter it is \n",
    "use try and except statement which are available in Python itself, which eliminates\n",
    "the error."
   ]
  },
  {
   "cell_type": "code",
   "execution_count": null,
   "id": "f3aea1e3",
   "metadata": {},
   "outputs": [],
   "source": [
    "14. What is the purpose of the try clause? What is the purpose of the except clause?"
   ]
  },
  {
   "cell_type": "markdown",
   "id": "5446d8b7",
   "metadata": {},
   "source": [
    "ANS:\n",
    "    The try block is used to check some code for errors i.e the code inside the try block will execute \n",
    "    when there is no error in the program. Whereas the code inside the except block will execute \n",
    "    whenever the program encounters some error in the preceding try block"
   ]
  }
 ],
 "metadata": {
  "kernelspec": {
   "display_name": "Python 3",
   "language": "python",
   "name": "python3"
  },
  "language_info": {
   "codemirror_mode": {
    "name": "ipython",
    "version": 3
   },
   "file_extension": ".py",
   "mimetype": "text/x-python",
   "name": "python",
   "nbconvert_exporter": "python",
   "pygments_lexer": "ipython3",
   "version": "3.8.8"
  }
 },
 "nbformat": 4,
 "nbformat_minor": 5
}
