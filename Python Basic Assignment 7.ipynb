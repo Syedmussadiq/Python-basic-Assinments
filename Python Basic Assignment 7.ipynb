{
 "cells": [
  {
   "cell_type": "code",
   "execution_count": 1,
   "id": "0c034efc",
   "metadata": {},
   "outputs": [],
   "source": [
    "import re"
   ]
  },
  {
   "cell_type": "code",
   "execution_count": null,
   "id": "89042253",
   "metadata": {},
   "outputs": [],
   "source": [
    "1. What is the name of the feature responsible for generating Regex objects?"
   ]
  },
  {
   "cell_type": "code",
   "execution_count": null,
   "id": "b1e7bd0e",
   "metadata": {},
   "outputs": [],
   "source": [
    "ANS:\n",
    "    The re. compile() function returns Regex objects."
   ]
  },
  {
   "cell_type": "code",
   "execution_count": null,
   "id": "10f5b51c",
   "metadata": {},
   "outputs": [],
   "source": [
    "2. Why do raw strings often appear in Regex objects"
   ]
  },
  {
   "cell_type": "code",
   "execution_count": null,
   "id": "97aa37dc",
   "metadata": {},
   "outputs": [],
   "source": [
    "ANS: \n",
    "    Raw strings help you to get the \"source code\" of a RegEx safely to the RegEx parser, \n",
    "    which will assign meaning to character sequences like \\d , \\w , \\n , etc..\n",
    "    Raw strings are used, so that backslashes do not have to be escaped."
   ]
  },
  {
   "cell_type": "code",
   "execution_count": null,
   "id": "8b91c75b",
   "metadata": {},
   "outputs": [],
   "source": [
    "3. What is the return value of the search() method?"
   ]
  },
  {
   "cell_type": "code",
   "execution_count": null,
   "id": "bd4c13ea",
   "metadata": {},
   "outputs": [],
   "source": [
    "Ans:\n",
    "    The re.search() function takes two parameters and returns a match object if there is a match. \n",
    "    If there is more than one match, only the first occurrence of the match will be returned. \n",
    "    If no matches are found, the value None is returned"
   ]
  },
  {
   "cell_type": "code",
   "execution_count": null,
   "id": "393b6ff6",
   "metadata": {},
   "outputs": [],
   "source": [
    "4. From a Match item, how do you get the actual strings that match the pattern?"
   ]
  },
  {
   "cell_type": "code",
   "execution_count": null,
   "id": "6cfacba9",
   "metadata": {},
   "outputs": [],
   "source": [
    "ANS:\n",
    "    To get the actual strings that match the pattern from Match item is \n",
    "    The group() method returns strings of the matched text."
   ]
  },
  {
   "cell_type": "code",
   "execution_count": null,
   "id": "eb8f45db",
   "metadata": {},
   "outputs": [],
   "source": [
    "5. In the regex which created from the r'(\\d\\d\\d)-(\\d\\d\\d-\\d\\d\\d\\d)', \n",
    "    what does group zero cover? Group 2? Group 1?"
   ]
  },
  {
   "cell_type": "code",
   "execution_count": null,
   "id": "834da89c",
   "metadata": {},
   "outputs": [],
   "source": [
    "ANS:\n",
    "    Group 0 is the entire match, group 1 covers the first set of parentheses, \n",
    "    and group 2 covers the second set of parentheses."
   ]
  },
  {
   "cell_type": "code",
   "execution_count": null,
   "id": "1ec8eb8f",
   "metadata": {},
   "outputs": [],
   "source": [
    "6. In standard expression syntax, parentheses and intervals have distinct meanings. \n",
    "    How can you tell a regex that you want it to fit real parentheses and periods?"
   ]
  },
  {
   "cell_type": "code",
   "execution_count": null,
   "id": "90a6aa0e",
   "metadata": {},
   "outputs": [],
   "source": [
    "ANS:\n",
    "    By placing part of a regular expression inside round brackets or parentheses(), \n",
    "    you can group that part of the regular expression together. This allows you to apply a quantifier to the entire \n",
    "    group or to restrict alternation to part of the regex. Only parentheses can be used for grouping"
   ]
  },
  {
   "cell_type": "code",
   "execution_count": null,
   "id": "31b62a39",
   "metadata": {},
   "outputs": [],
   "source": [
    "7. The findall() method returns a string list or a list of string tuples. What causes it to return one of the two options?"
   ]
  },
  {
   "cell_type": "code",
   "execution_count": null,
   "id": "a61d75e2",
   "metadata": {},
   "outputs": [],
   "source": [
    "ANS:\n",
    "    The re.findall() method returns a list of strings. Each string element is a matching substring of the string argument."
   ]
  },
  {
   "cell_type": "code",
   "execution_count": null,
   "id": "53b7333c",
   "metadata": {},
   "outputs": [],
   "source": [
    "8. In standard expressions, what does the | character mean?"
   ]
  },
  {
   "cell_type": "code",
   "execution_count": 3,
   "id": "3533869b",
   "metadata": {},
   "outputs": [
    {
     "name": "stdout",
     "output_type": "stream",
     "text": [
      "['falls']\n",
      "yes, There is at least one match!\n"
     ]
    }
   ],
   "source": [
    "ANS:\n",
    "    In standard expressions the | charactar is EITHER OR\n",
    "EX:\n",
    "    \n",
    "txt = \"The Leaves of trees falls mainly in the spring!\"\n",
    "#check if the string contais either \"falls\" or \"stays\" :\n",
    "x= re.findall(\"falls|stays\", txt)\n",
    "print(x)\n",
    "if x:\n",
    "    print(\"yes, There is at least one match!\")\n",
    "else:\n",
    "        print(\"No match\")"
   ]
  },
  {
   "cell_type": "code",
   "execution_count": null,
   "id": "f7545311",
   "metadata": {},
   "outputs": [],
   "source": [
    "9. In regular expressions, what does the character stand for?"
   ]
  },
  {
   "cell_type": "code",
   "execution_count": null,
   "id": "d4c940d4",
   "metadata": {},
   "outputs": [],
   "source": [
    "ANS:\n",
    "    Each character in a regular expression is either a metacharacter,having a special meaning, or a regular character\n",
    "    that has a literal meaning. For example, in the regex a. , 'a' is a literal character that matches just 'a', \n",
    "    while '.' is a metacharacter that matches every character except a newline"
   ]
  },
  {
   "cell_type": "code",
   "execution_count": null,
   "id": "df9ed133",
   "metadata": {},
   "outputs": [],
   "source": [
    "10.In regular expressions, what is the difference between the + and * characters?"
   ]
  },
  {
   "cell_type": "code",
   "execution_count": null,
   "id": "86507750",
   "metadata": {},
   "outputs": [],
   "source": [
    "ANS:\n",
    "    the difference between the + and * characters are\n",
    "    + = One or More Occurrences EX-\"aix+\"\n",
    "    * = Zero or more occurrences EX - \"aix*\""
   ]
  },
  {
   "cell_type": "code",
   "execution_count": null,
   "id": "f40442fb",
   "metadata": {},
   "outputs": [],
   "source": [
    "11. What is the difference between {4} and {4,5} in regular expression?"
   ]
  },
  {
   "cell_type": "code",
   "execution_count": null,
   "id": "e11bf89a",
   "metadata": {},
   "outputs": [],
   "source": [
    "Ans:\n",
    "    the difference are :\n",
    "    {4} - Specifies that exactly 4 copies of the previous RE should be matched; \n",
    "    fewer matches cause the entire RE not to match. For example, a{4} will match exactly four 'a' characters, but not five\n",
    "    \n",
    "    {4,5} - Causes the resulting RE to match from 4 to 5 repetitions of the preceding RE, attempting to \n",
    "    match as many repetitions as possible. For example, a{3,5} will match from 3 to 5 'a' characters. \n",
    "    Omitting m specifies a lower bound of zero, and omitting n specifies an infinite upper bound. \n",
    "    As an example, a{4,}b will match 'aaaab' or a thousand 'a' characters followed by a 'b', but not 'aaab'. \n",
    "    The comma may not be omitted or the modifier would be confused with the previously described form."
   ]
  },
  {
   "cell_type": "code",
   "execution_count": null,
   "id": "8c147f44",
   "metadata": {},
   "outputs": [],
   "source": [
    "12. What do you mean by the \\d, \\w, and \\s shorthand character classes signify in regular\n",
    "expressions?"
   ]
  },
  {
   "cell_type": "code",
   "execution_count": 4,
   "id": "eb754422",
   "metadata": {},
   "outputs": [],
   "source": [
    "ANS: \n",
    "    \\d matches any single digit (same as [0-9])\n",
    "    \\w stands for “word character”\n",
    "    \\s stands for “whitespace character\""
   ]
  },
  {
   "cell_type": "code",
   "execution_count": null,
   "id": "9642c232",
   "metadata": {},
   "outputs": [],
   "source": [
    "13. What do means by \\D, \\W, and \\S shorthand character classes signify in regular expressions?"
   ]
  },
  {
   "cell_type": "code",
   "execution_count": null,
   "id": "a3248c81",
   "metadata": {},
   "outputs": [],
   "source": [
    "ANS: \n",
    "    The \\D, \\W, and \\S shorthand character classes match a single character that is not a digit, word, or space character"
   ]
  },
  {
   "cell_type": "code",
   "execution_count": null,
   "id": "20ebdfd7",
   "metadata": {},
   "outputs": [],
   "source": [
    "14. What is the difference between .*? and .*?"
   ]
  },
  {
   "cell_type": "code",
   "execution_count": null,
   "id": "3d8e37f5",
   "metadata": {},
   "outputs": [],
   "source": [
    "ANS:\n",
    "    (.*?) matches any character (.) any number of times (*), as few times as possible to make the regex match (?). \n",
    "    You'll get a match on any string, but you'll only capture a blank string because of the question mark. \n",
    "    This feature is much more useful when you have a more complicated regex. Here, the parser doesn't have to capture anything \n",
    "    at all to get a match:the asterisk allows any number of characters in the capturing group, while the question mark makes\n",
    "    the parser save as many as possible from the input text for later, resulting in nothing being captured.\n",
    "\n",
    "    (.*)? captures a group zero or one times (?). That group consists of a run of any length (*) of any character (.). \n",
    "    This also will match anything, but it will capture the first line, since the dot matches anything except a newline."
   ]
  },
  {
   "cell_type": "code",
   "execution_count": null,
   "id": "4f6ee574",
   "metadata": {},
   "outputs": [],
   "source": [
    "15. What is the syntax for matching both numbers and lowercase letters with a character class?"
   ]
  },
  {
   "cell_type": "code",
   "execution_count": null,
   "id": "7d2e0d5c",
   "metadata": {},
   "outputs": [],
   "source": [
    "ANS:\n",
    "    For example, the regular expression \"[ A-Za-z] \" specifies to match any single uppercase or lowercase letter.\n",
    "    In the character set, a hyphen indicates a range of characters, for example [A-Z] will match any one capital letter. \n",
    "    In a character set a ^ character negates the following characters"
   ]
  },
  {
   "cell_type": "code",
   "execution_count": null,
   "id": "325e3db6",
   "metadata": {},
   "outputs": [],
   "source": [
    "16. What is the procedure for making a normal expression in regax case insensitive?"
   ]
  },
  {
   "cell_type": "code",
   "execution_count": null,
   "id": "717f9b84",
   "metadata": {},
   "outputs": [],
   "source": [
    "ANS:\n",
    "    Passing re.I or re.IGNORECASE as the second argument to re.compile() will make the matching case insensitive.\n",
    "\n",
    "EX-\n",
    "Input : Mr. Syed musaddiq Khadri\n",
    "Output : Valid\n",
    "\n",
    "Input : Sudhanshu and Mr. Krish Naik\n",
    "Output : Invalid"
   ]
  },
  {
   "cell_type": "code",
   "execution_count": null,
   "id": "4f4651eb",
   "metadata": {},
   "outputs": [],
   "source": [
    "17. What does the . character normally match? What does it match if re.DOTALL is passed as 2nd\n",
    "argument in re.compile()?"
   ]
  },
  {
   "cell_type": "code",
   "execution_count": null,
   "id": "6cc41095",
   "metadata": {},
   "outputs": [],
   "source": [
    "ANS:\n",
    "    character normally matches any character except the newline character. If re. DOTALL is passed as the second\n",
    "    argument to re. compile(), then the dot will also match newline characters."
   ]
  },
  {
   "cell_type": "code",
   "execution_count": null,
   "id": "27538751",
   "metadata": {},
   "outputs": [],
   "source": [
    "18. If numReg = re.compile(r'\\d+'), what will numRegex.sub('X' '11 drummers,10 pipers, five rings, 4 hen') return?"
   ]
  },
  {
   "cell_type": "code",
   "execution_count": null,
   "id": "b9f30195",
   "metadata": {},
   "outputs": [],
   "source": [
    "ANS:\n",
    "    X drummers, X pipers, five rings, X hens'"
   ]
  },
  {
   "cell_type": "code",
   "execution_count": null,
   "id": "6af85192",
   "metadata": {},
   "outputs": [],
   "source": [
    "19. What does passing re.VERBOSE as the 2nd argument to re.compile() allow to do?"
   ]
  },
  {
   "cell_type": "code",
   "execution_count": null,
   "id": "0d637483",
   "metadata": {},
   "outputs": [],
   "source": [
    "ANS:\n",
    "    The re. VERBOSE argument allows you to add whitespace and comments to the string passed to re.compile()."
   ]
  },
  {
   "cell_type": "code",
   "execution_count": null,
   "id": "e13f82dc",
   "metadata": {},
   "outputs": [],
   "source": [
    "20. How would you write a regex that match a number with comma for every three digits? It must\n",
    "match the given following:\n",
    "'42'\n",
    "'1,234'\n",
    "'6,368,745'\n",
    "but not the following\n",
    "'1234'(which lacks commas)"
   ]
  },
  {
   "cell_type": "code",
   "execution_count": 48,
   "id": "f3308daa",
   "metadata": {},
   "outputs": [
    {
     "name": "stdout",
     "output_type": "stream",
     "text": [
      "42\n",
      "1,233\n",
      "6,368,745\n"
     ]
    }
   ],
   "source": [
    "ANS:\n",
    "    \n",
    "import re\n",
    "\n",
    "numRegex = re.compile(r\"((?<!\\d)\\d{1,3}(?!\\d)(,\\d{3})*)\")\n",
    "txt =\" ababs42   1,2334   6,368,745\"\n",
    "xs = numRegex.findall(txt)\n",
    "for x in xs:\n",
    "    print(x[0])"
   ]
  },
  {
   "cell_type": "code",
   "execution_count": null,
   "id": "86b765e4",
   "metadata": {},
   "outputs": [],
   "source": [
    "21. How would you write a regex that matches the full name of someone whose last name is\n",
    "Watanabe? You can assume that the first name that comes before it will always be one word that begins with a capital letter.\n",
    "The regex must match the following:\n",
    "    \n",
    "'Haruto Watanabe'\n",
    "'Alice Watanabe'\n",
    "'RoboCop Watanabe'\n",
    "\n",
    "but not the following:\n",
    "    \n",
    "'haruto Watanabe'(where the first name is not capitalized)\n",
    "'Mr. Watanabe'(where the preceding word has a nonletter character)\n",
    "'Watanabe'(which has no first name)\n",
    "'Haruto watanabe'('where Watanabe is not capitalized)"
   ]
  },
  {
   "cell_type": "code",
   "execution_count": 49,
   "id": "a27fc0cb",
   "metadata": {},
   "outputs": [
    {
     "data": {
      "text/plain": [
       "re.compile(r'[A-Z][a-z]*\\sWatanabe', re.UNICODE)"
      ]
     },
     "execution_count": 49,
     "metadata": {},
     "output_type": "execute_result"
    }
   ],
   "source": [
    "ANS:\n",
    "    re.compile(r'[A-Z][a-z]*\\sWatanabe')"
   ]
  },
  {
   "cell_type": "code",
   "execution_count": null,
   "id": "28b121bc",
   "metadata": {},
   "outputs": [],
   "source": [
    "22. How would you write a regex that matches a sentence where the first word is either Alice, Bob,\n",
    "or Carol; the second word is either eats, pets, or throws; the third word is apples, cats, or baseballs;\n",
    "and the sentence ends with a period? This regex should be case-insensitive. It must match the\n",
    "following:\n",
    "    \n",
    "'Alice eats apples.'\n",
    "'Bob pets cats.'\n",
    "'Carol throws baseballs.'\n",
    "'Alice throws Apples.'\n",
    "'BOB EATS CATS.'\n",
    "\n",
    "but not the following:\n",
    "    \n",
    "'RoboCop eats apples.'\n",
    "'ALICE THROWS FOOTBALLS.'\n",
    "'Carol eats 7 cats.'\n"
   ]
  },
  {
   "cell_type": "code",
   "execution_count": 51,
   "id": "d73eed23",
   "metadata": {},
   "outputs": [],
   "source": [
    "ANS:\n",
    "    re.compile(r'(Alice|Bob|Carol)\\s(eats|pets|throws)\\s(apples|cats|baseballs)\\.', re.IGNORECASE)"
   ]
  },
  {
   "cell_type": "code",
   "execution_count": null,
   "id": "becedc43",
   "metadata": {},
   "outputs": [],
   "source": []
  }
 ],
 "metadata": {
  "kernelspec": {
   "display_name": "Python 3 (ipykernel)",
   "language": "python",
   "name": "python3"
  },
  "language_info": {
   "codemirror_mode": {
    "name": "ipython",
    "version": 3
   },
   "file_extension": ".py",
   "mimetype": "text/x-python",
   "name": "python",
   "nbconvert_exporter": "python",
   "pygments_lexer": "ipython3",
   "version": "3.9.7"
  }
 },
 "nbformat": 4,
 "nbformat_minor": 5
}
