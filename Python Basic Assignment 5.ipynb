{
 "cells": [
  {
   "cell_type": "code",
   "execution_count": null,
   "id": "abaf2eb6",
   "metadata": {},
   "outputs": [],
   "source": [
    "1. What does an empty dictionary's code look like?"
   ]
  },
  {
   "cell_type": "code",
   "execution_count": 4,
   "id": "1a1511be",
   "metadata": {},
   "outputs": [
    {
     "data": {
      "text/plain": [
       "dict"
      ]
     },
     "execution_count": 4,
     "metadata": {},
     "output_type": "execute_result"
    }
   ],
   "source": [
    "ANS:\n",
    "    The empty dictionary will be like {}.It does not contain any element in it,if it does it is a set.\n",
    "    dictionary always contains the values in key value pair.\n",
    "    example\n",
    "a={}\n",
    "type(a)"
   ]
  },
  {
   "cell_type": "code",
   "execution_count": null,
   "id": "38343155",
   "metadata": {},
   "outputs": [],
   "source": [
    "2. What is the value of a dictionary value with the key 'foo' and the value 42?"
   ]
  },
  {
   "cell_type": "markdown",
   "id": "f5cdc75c",
   "metadata": {},
   "source": [
    "ANS:\n",
    "a = {\"foo\":42}\n",
    "\n",
    "The 'foo' is a key which stores value 42 in it"
   ]
  },
  {
   "cell_type": "code",
   "execution_count": null,
   "id": "65bd1796",
   "metadata": {},
   "outputs": [],
   "source": [
    "3. What is the most significant distinction between a dictionary and a list?"
   ]
  },
  {
   "cell_type": "markdown",
   "id": "1ba8af18",
   "metadata": {},
   "source": [
    "ANS:\n",
    "1.The dictionary is defined in a key value pair,the dictionary is mutable entity which can be changed\n",
    "by calling the respective keys in a dictionary.\n",
    "2.Dictionaries do not support the sequence operation of the sequence data types like strings, tuples and lists.\n",
    "3.The list is a sequence of mutable values enclosed within the square bracket seperated with comma."
   ]
  },
  {
   "cell_type": "code",
   "execution_count": null,
   "id": "c1d77fc7",
   "metadata": {},
   "outputs": [],
   "source": [
    "4. What happens if you try to access spam['foo'] if spam is {'bar': 100}?"
   ]
  },
  {
   "cell_type": "code",
   "execution_count": 12,
   "id": "a00b8ac3",
   "metadata": {},
   "outputs": [
    {
     "ename": "KeyError",
     "evalue": "'foo'",
     "output_type": "error",
     "traceback": [
      "\u001b[1;31m---------------------------------------------------------------------------\u001b[0m",
      "\u001b[1;31mKeyError\u001b[0m                                  Traceback (most recent call last)",
      "\u001b[1;32m<ipython-input-12-8cf03f77d384>\u001b[0m in \u001b[0;36m<module>\u001b[1;34m\u001b[0m\n\u001b[0;32m      1\u001b[0m \u001b[1;31m#ANS:\u001b[0m\u001b[1;33m\u001b[0m\u001b[1;33m\u001b[0m\u001b[1;33m\u001b[0m\u001b[0m\n\u001b[0;32m      2\u001b[0m \u001b[0mspam\u001b[0m \u001b[1;33m=\u001b[0m \u001b[1;33m{\u001b[0m\u001b[1;34m'bar'\u001b[0m\u001b[1;33m:\u001b[0m\u001b[1;36m10\u001b[0m\u001b[1;33m}\u001b[0m\u001b[1;33m\u001b[0m\u001b[1;33m\u001b[0m\u001b[0m\n\u001b[1;32m----> 3\u001b[1;33m \u001b[0mspam\u001b[0m\u001b[1;33m[\u001b[0m\u001b[1;34m'foo'\u001b[0m\u001b[1;33m]\u001b[0m\u001b[1;33m\u001b[0m\u001b[1;33m\u001b[0m\u001b[0m\n\u001b[0m\u001b[0;32m      4\u001b[0m \u001b[1;33m\u001b[0m\u001b[0m\n\u001b[0;32m      5\u001b[0m \u001b[1;31m# gets an error, because the key \"foo\" is not defined in the above dictionary\u001b[0m\u001b[1;33m\u001b[0m\u001b[1;33m\u001b[0m\u001b[1;33m\u001b[0m\u001b[0m\n",
      "\u001b[1;31mKeyError\u001b[0m: 'foo'"
     ]
    }
   ],
   "source": [
    "ANS:\n",
    "spam = {'bar':10}\n",
    "spam['foo']\n",
    "\n",
    " gets an error, because the key \"foo\" is not defined in the above dictionary"
   ]
  },
  {
   "cell_type": "code",
   "execution_count": null,
   "id": "ae4275f8",
   "metadata": {},
   "outputs": [],
   "source": [
    "5. If a dictionary is stored in spam, what is the difference between the \n",
    "expressions 'cat' in spam and 'cat' in spam.keys()?"
   ]
  },
  {
   "cell_type": "code",
   "execution_count": 17,
   "id": "1e0501d8",
   "metadata": {},
   "outputs": [
    {
     "data": {
      "text/plain": [
       "True"
      ]
     },
     "execution_count": 17,
     "metadata": {},
     "output_type": "execute_result"
    }
   ],
   "source": [
    "ANS:\n",
    "spam = {'cat':10}\n",
    "\n",
    "'cat' in spam   #it will search for the particular value in the dictionary\n",
    "\n",
    "'cat' in spam.keys() # it will select the key which mentoned in the dictionary\n",
    "\n",
    "it gives us the output in boolean value,if the given value is presenet in the keys "
   ]
  },
  {
   "cell_type": "code",
   "execution_count": null,
   "id": "5a9ca750",
   "metadata": {},
   "outputs": [],
   "source": [
    "6. If a dictionary is stored in spam, what is the difference between the \n",
    "expressions 'cat' in spam and 'cat' in spam.values()?"
   ]
  },
  {
   "cell_type": "code",
   "execution_count": 20,
   "id": "f5ee619c",
   "metadata": {},
   "outputs": [
    {
     "data": {
      "text/plain": [
       "False"
      ]
     },
     "execution_count": 20,
     "metadata": {},
     "output_type": "execute_result"
    }
   ],
   "source": [
    "ANS:\n",
    "spam = {'cat':10, 'dog':20}\n",
    "\n",
    "'cat' in spam   #it will search for the particular value in the dictionary\n",
    "\n",
    "'cat' in spam.values() # it will select the Value which mentoned in the dictionary\n",
    "\n",
    "#it gives us the output in boolean value, if the given value is not present in the values"
   ]
  },
  {
   "cell_type": "code",
   "execution_count": null,
   "id": "b827e1db",
   "metadata": {},
   "outputs": [],
   "source": [
    "7. What is a shortcut for the following code?\n",
    "if 'color' not in spam:\n",
    "spam ['color'] = 'black'\n"
   ]
  },
  {
   "cell_type": "code",
   "execution_count": 30,
   "id": "697504b7",
   "metadata": {},
   "outputs": [
    {
     "data": {
      "text/plain": [
       "'black'"
      ]
     },
     "execution_count": 30,
     "metadata": {},
     "output_type": "execute_result"
    }
   ],
   "source": [
    "#ANS:\n",
    "spam = {'cat':10,}\n",
    "spam.setdefault('color', 'black')\n",
    "\n",
    "The setdefault() method offers a way to do this in one line of code.\n",
    "the setdefault() method returns the key’s value"
   ]
  },
  {
   "cell_type": "code",
   "execution_count": 31,
   "id": "9c81a212",
   "metadata": {},
   "outputs": [
    {
     "data": {
      "text/plain": [
       "{'cat': 10, 'color': 'black'}"
      ]
     },
     "execution_count": 31,
     "metadata": {},
     "output_type": "execute_result"
    }
   ],
   "source": [
    "spam"
   ]
  },
  {
   "cell_type": "code",
   "execution_count": null,
   "id": "c43a0612",
   "metadata": {},
   "outputs": [],
   "source": [
    "8. How do you \"pretty print\" dictionary values using which module and function?"
   ]
  },
  {
   "cell_type": "code",
   "execution_count": null,
   "id": "d0062ebb",
   "metadata": {},
   "outputs": [],
   "source": [
    "ANS:\n",
    "    It can be printed using pprint.pprint()"
   ]
  },
  {
   "cell_type": "code",
   "execution_count": null,
   "id": "c800538d",
   "metadata": {},
   "outputs": [],
   "source": []
  },
  {
   "cell_type": "code",
   "execution_count": null,
   "id": "2050f1e6",
   "metadata": {},
   "outputs": [],
   "source": []
  },
  {
   "cell_type": "code",
   "execution_count": null,
   "id": "799e8775",
   "metadata": {},
   "outputs": [],
   "source": []
  }
 ],
 "metadata": {
  "kernelspec": {
   "display_name": "Python 3",
   "language": "python",
   "name": "python3"
  },
  "language_info": {
   "codemirror_mode": {
    "name": "ipython",
    "version": 3
   },
   "file_extension": ".py",
   "mimetype": "text/x-python",
   "name": "python",
   "nbconvert_exporter": "python",
   "pygments_lexer": "ipython3",
   "version": "3.8.8"
  }
 },
 "nbformat": 4,
 "nbformat_minor": 5
}
