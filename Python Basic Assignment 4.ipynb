{
 "cells": [
  {
   "cell_type": "code",
   "execution_count": null,
   "id": "6e5d2475",
   "metadata": {},
   "outputs": [],
   "source": [
    "1. What exactly is []?"
   ]
  },
  {
   "cell_type": "markdown",
   "id": "fbdfe7ef",
   "metadata": {},
   "source": [
    "ANS:\n",
    "    [] is the square bracket which is to be enclosed for list seperated with comma with series of data\n",
    "    ex - a=[1,23,4,5,6]\n"
   ]
  },
  {
   "cell_type": "code",
   "execution_count": null,
   "id": "ac387a76",
   "metadata": {},
   "outputs": [],
   "source": [
    "2. In a list of values stored in a variable called spam, how would you assign the value 'hello' as the third value? \n",
    "(Assume [2, 4, 6, 8, 10] are in spam.)\n"
   ]
  },
  {
   "cell_type": "code",
   "execution_count": 4,
   "id": "4427c931",
   "metadata": {},
   "outputs": [
    {
     "name": "stdout",
     "output_type": "stream",
     "text": [
      "[2, 4, 'hello', 8, 10]\n"
     ]
    }
   ],
   "source": [
    "ANS:\n",
    "spam = [2,4,6,8,10]\n",
    "spam[2] = 'hello'\n",
    "print (spam)"
   ]
  },
  {
   "cell_type": "markdown",
   "id": "f8dd2a34",
   "metadata": {},
   "source": [
    "# Let's pretend the spam includes the list ['a', 'b', 'c', 'd'] for the next three queries."
   ]
  },
  {
   "cell_type": "code",
   "execution_count": null,
   "id": "6db18bd8",
   "metadata": {},
   "outputs": [],
   "source": [
    "3. What is the value of spam[int(int('3' * 2) / 11)]?"
   ]
  },
  {
   "cell_type": "code",
   "execution_count": 6,
   "id": "b53657ce",
   "metadata": {},
   "outputs": [
    {
     "name": "stdout",
     "output_type": "stream",
     "text": [
      "d\n"
     ]
    }
   ],
   "source": [
    "ANS:\n",
    "spam = ['a', 'b', 'c', 'd'] \n",
    "print(spam[int(int('3' * 2) / 11)])"
   ]
  },
  {
   "cell_type": "code",
   "execution_count": null,
   "id": "d489a928",
   "metadata": {},
   "outputs": [],
   "source": [
    "4. What is the value of spam[-1]?"
   ]
  },
  {
   "cell_type": "code",
   "execution_count": 11,
   "id": "de431250",
   "metadata": {},
   "outputs": [
    {
     "data": {
      "text/plain": [
       "'d'"
      ]
     },
     "execution_count": 11,
     "metadata": {},
     "output_type": "execute_result"
    }
   ],
   "source": [
    "ANS:\n",
    "spam[-1]"
   ]
  },
  {
   "cell_type": "code",
   "execution_count": null,
   "id": "2ac069df",
   "metadata": {},
   "outputs": [],
   "source": [
    "5. What is the value of spam[:2]?"
   ]
  },
  {
   "cell_type": "code",
   "execution_count": 12,
   "id": "9116d349",
   "metadata": {},
   "outputs": [
    {
     "data": {
      "text/plain": [
       "['a', 'b']"
      ]
     },
     "execution_count": 12,
     "metadata": {},
     "output_type": "execute_result"
    }
   ],
   "source": [
    "ANS:\n",
    "    spam[:2]\n",
    "    #The range function starts from '0' index to '2'  excluding the upper bound"
   ]
  },
  {
   "cell_type": "markdown",
   "id": "a94dd0e5",
   "metadata": {},
   "source": [
    "# Let's pretend bacon has the list [3.14, 'cat,' 11, 'cat,' True] for the next three questions."
   ]
  },
  {
   "cell_type": "code",
   "execution_count": null,
   "id": "a4dff615",
   "metadata": {},
   "outputs": [],
   "source": [
    "6. What is the value of bacon.index('cat')?"
   ]
  },
  {
   "cell_type": "code",
   "execution_count": 7,
   "id": "92444ea8",
   "metadata": {},
   "outputs": [
    {
     "name": "stdout",
     "output_type": "stream",
     "text": [
      "1\n"
     ]
    }
   ],
   "source": [
    "ANS:\n",
    "#bacon = [3.14, 'cat,' 11, 'cat,' True] #copied question is wrong, string Qoutes are after comma.\n",
    "bacon = [3.14, 'cat', 11, 'cat', True] #created question\n",
    "print(bacon.index('cat'))\n",
    "\n",
    "The value of bacon.index(\"cat\") is 1 # it is consider index as 0,1,2,3,4 which starts from 0"
   ]
  },
  {
   "cell_type": "code",
   "execution_count": null,
   "id": "da071493",
   "metadata": {},
   "outputs": [],
   "source": [
    "7. How does bacon.append(99) change the look of the list value in bacon?"
   ]
  },
  {
   "cell_type": "code",
   "execution_count": 9,
   "id": "82c3e504",
   "metadata": {},
   "outputs": [
    {
     "name": "stdout",
     "output_type": "stream",
     "text": [
      "[3.14, 'cat', 11, 'cat', True, 99]\n"
     ]
    }
   ],
   "source": [
    "ANS:\n",
    "bacon = [3.14, 'cat', 11, 'cat', True]\n",
    "(bacon.append(99))\n",
    "print(bacon)\n",
    "\n",
    "It changes the look by appending given value at the end of the list"
   ]
  },
  {
   "cell_type": "code",
   "execution_count": null,
   "id": "5e8a9035",
   "metadata": {},
   "outputs": [],
   "source": [
    "8. How does bacon.remove('cat') change the look of the list in bacon?"
   ]
  },
  {
   "cell_type": "code",
   "execution_count": 10,
   "id": "d971b99e",
   "metadata": {},
   "outputs": [
    {
     "name": "stdout",
     "output_type": "stream",
     "text": [
      "[3.14, 11, 'cat', True]\n"
     ]
    }
   ],
   "source": [
    "ANS:\n",
    "bacon = [3.14, 'cat', 11, 'cat', True]\n",
    "bacon.remove('cat')\n",
    "print(bacon)\n",
    "\n",
    "The above operation removes only one value \"cat\" from the list eventhough it has two same values."
   ]
  },
  {
   "cell_type": "code",
   "execution_count": null,
   "id": "c08c2989",
   "metadata": {},
   "outputs": [],
   "source": [
    "9. What are the list concatenation and list replication operators?"
   ]
  },
  {
   "cell_type": "code",
   "execution_count": null,
   "id": "0059bdfe",
   "metadata": {},
   "outputs": [],
   "source": [
    "ANS:\n",
    "The operator for list concatenation is \"+\", and for list replication is \"*\""
   ]
  },
  {
   "cell_type": "code",
   "execution_count": null,
   "id": "ca1ef6ab",
   "metadata": {},
   "outputs": [],
   "source": [
    "10. What is difference between the list methods append() and insert()?"
   ]
  },
  {
   "cell_type": "code",
   "execution_count": 24,
   "id": "5444b021",
   "metadata": {},
   "outputs": [
    {
     "name": "stdout",
     "output_type": "stream",
     "text": [
      "[1, 2, 3, 4, 5, 6, 'syed']\n",
      "['syed', 1, 2, 3, 4, 5, 6, 'syed']\n"
     ]
    }
   ],
   "source": [
    "ANS:\n",
    "#The difference between list method and append () and insert() is\n",
    "l = [1,2,3,4,5,6]\n",
    "l.append(\"syed\")\n",
    "print(l)\n",
    "The above Query appends the new value at the last\n",
    "\n",
    "l.insert(0, \"syed\")\n",
    "print(l)\n",
    "The above query inserts the new value by doing indexing '0' at the first"
   ]
  },
  {
   "cell_type": "code",
   "execution_count": null,
   "id": "25a26510",
   "metadata": {},
   "outputs": [],
   "source": [
    "11. What are the two methods for removing items from a list?"
   ]
  },
  {
   "cell_type": "code",
   "execution_count": 42,
   "id": "74595894",
   "metadata": {},
   "outputs": [
    {
     "name": "stdout",
     "output_type": "stream",
     "text": [
      "[1, 2, 4, 5, 6, 7, 8, 23]\n",
      "[1, 2, 4, 5, 6, 7, 23]\n",
      "[]\n"
     ]
    }
   ],
   "source": [
    "#ANS:\n",
    "#The methods are remove(), pop(), clear()\n",
    "l = [1,2,3,4,5,6,7,8,23]\n",
    "l.remove(3)\n",
    "print(l) # Here the remove() operation removes the value \"3\" directly from the list l.\n",
    "\n",
    "l.pop(6)\n",
    "print(l) # Here the pop() operation removes the value \"8\" available at 6 index.default will be the last value of a list.\n",
    "\n",
    "l.clear()\n",
    "print(l) # Here the clear() operation clears all the elements from the list l."
   ]
  },
  {
   "cell_type": "code",
   "execution_count": null,
   "id": "f1427e9a",
   "metadata": {},
   "outputs": [],
   "source": [
    "12. Describe how list values and string values are identical."
   ]
  },
  {
   "cell_type": "code",
   "execution_count": null,
   "id": "97ef12aa",
   "metadata": {},
   "outputs": [],
   "source": [
    "#ANS:\n",
    "The similarity between Lists and Strings in Python is that both are sequences. \n",
    "the Lists are mutable but Strings are immutable and elements of a list can be of different types,\n",
    "whereas String only contains characters that are all of String type."
   ]
  },
  {
   "cell_type": "code",
   "execution_count": null,
   "id": "df97dfa6",
   "metadata": {},
   "outputs": [],
   "source": [
    "13. What's the difference between tuples and lists?"
   ]
  },
  {
   "cell_type": "code",
   "execution_count": null,
   "id": "5c498b0c",
   "metadata": {},
   "outputs": [],
   "source": [
    "ANS:\n",
    "    The tuples are immutable and the List are mutable\n",
    "the List is written in square brackets [ ] and Tuples are written in Parenthesis ( ). \n",
    "we cannot make changes in tuples, whereas we can make changes in List"
   ]
  },
  {
   "cell_type": "code",
   "execution_count": null,
   "id": "ec4b99f0",
   "metadata": {},
   "outputs": [],
   "source": [
    "14. How do you type a tuple value that only contains the integer 42?"
   ]
  },
  {
   "cell_type": "code",
   "execution_count": 48,
   "id": "c686773d",
   "metadata": {},
   "outputs": [
    {
     "data": {
      "text/plain": [
       "int"
      ]
     },
     "execution_count": 48,
     "metadata": {},
     "output_type": "execute_result"
    }
   ],
   "source": [
    "ANS:\n",
    "    By mentioning comma after the int within parenthesis below:\n",
    "        \n",
    "tuple=(42)\n",
    "type(tuple)\n",
    "\n"
   ]
  },
  {
   "cell_type": "code",
   "execution_count": 49,
   "id": "a2db4543",
   "metadata": {},
   "outputs": [
    {
     "data": {
      "text/plain": [
       "tuple"
      ]
     },
     "execution_count": 49,
     "metadata": {},
     "output_type": "execute_result"
    }
   ],
   "source": [
    "tuple=(42,)\n",
    "type(tuple)"
   ]
  },
  {
   "cell_type": "code",
   "execution_count": null,
   "id": "944423ef",
   "metadata": {},
   "outputs": [],
   "source": [
    "15. How do you get a list value's tuple form? How do you get a tuple value's list form?"
   ]
  },
  {
   "cell_type": "code",
   "execution_count": 6,
   "id": "3b22344c",
   "metadata": {},
   "outputs": [
    {
     "name": "stdout",
     "output_type": "stream",
     "text": [
      "[(28,), (34,), (55,), ('syed',)]\n",
      "[(28,), (34,), (55,), ('syed',)]\n"
     ]
    }
   ],
   "source": [
    "ANS:\n",
    "l=[[28],[34],[55],[\"syed\"]]\n",
    "a=list(map(tuple,l))\n",
    "print(a) \n",
    "we can use the map function to convert list to tuple.\n",
    "\n",
    "l1=((28),(34),(55),(\"syed\"))\n",
    "a1 = list(map(tuple,l))\n",
    "print(a1) \n",
    "we can use the map function to convert list to tuple.\n",
    "    "
   ]
  },
  {
   "cell_type": "code",
   "execution_count": null,
   "id": "80c0f35f",
   "metadata": {},
   "outputs": [],
   "source": [
    "16. Variables that \"contain\" list values are not necessarily lists themselves. Instead, what do they contain?"
   ]
  },
  {
   "cell_type": "code",
   "execution_count": null,
   "id": "2eb60d37",
   "metadata": {},
   "outputs": [],
   "source": [
    "ANS:\n",
    "The most common way to declare a list in Python is to use square brackets.\n",
    "A list is a data structure in Python that contains an ordered sequence of zero or more elements. \n",
    "Lists in Python are mutable, which means they can be changed. They can contain any type of data, \n",
    "like a string or a dictionary."
   ]
  },
  {
   "cell_type": "code",
   "execution_count": null,
   "id": "dbd45ad0",
   "metadata": {},
   "outputs": [],
   "source": [
    "17. How do you distinguish between copy.copy() and copy.deepcopy()?"
   ]
  },
  {
   "cell_type": "code",
   "execution_count": 7,
   "id": "0b38a2d5",
   "metadata": {},
   "outputs": [],
   "source": [
    "ANS:\n",
    "\n",
    "import copy"
   ]
  },
  {
   "cell_type": "code",
   "execution_count": 13,
   "id": "606895f2",
   "metadata": {},
   "outputs": [
    {
     "name": "stdout",
     "output_type": "stream",
     "text": [
      "[[1, 2, 3], [4, 'AA', 6], [7, 8, 9]]\n",
      "[[1, 2, 3], [4, 'AA', 6], [7, 8, 9]]\n"
     ]
    }
   ],
   "source": [
    "a = [[1,2,3],[4,5,6],[7,8,9]]\n",
    "a1 = copy.copy(a)\n",
    "\n",
    "a[1][1] = 'AA'\n",
    "\n",
    "print(a)\n",
    "print(a1)"
   ]
  },
  {
   "cell_type": "code",
   "execution_count": null,
   "id": "e960bd6f",
   "metadata": {},
   "outputs": [],
   "source": [
    "ANS:\n",
    "    In above programme, we created a nested list and then copy it using copy() method.\n",
    "    A copy.copy() creates a new object which stores the reference of the original elements.\n",
    "    we made changes to a i.e a[1][1] = 'AA'. Both sublists of a and a1 at index [1][1] were modified.\n",
    "    This is because, both lists share the reference of same nested objects."
   ]
  },
  {
   "cell_type": "code",
   "execution_count": 14,
   "id": "d4962a7a",
   "metadata": {},
   "outputs": [
    {
     "name": "stdout",
     "output_type": "stream",
     "text": [
      "[[1, 1, 1], [2, 'AA', 2], [3, 3, 3]]\n",
      "[[1, 1, 1], [2, 2, 2], [3, 3, 3]]\n"
     ]
    }
   ],
   "source": [
    "b = [[1, 1, 1], [2, 2, 2], [3, 3, 3]]\n",
    "b1 = copy.deepcopy(b)\n",
    "\n",
    "b[1][1] = 'AA'\n",
    "\n",
    "print(b)\n",
    "print(b1)"
   ]
  },
  {
   "cell_type": "code",
   "execution_count": null,
   "id": "d6582bcb",
   "metadata": {},
   "outputs": [],
   "source": [
    "In the above program,A deep copy creates a new object and recursively adds the copies of nested objects present in the \n",
    "original elements.when we assign a new value to old_list, we can see only the b is modified. \n",
    "This means, both the b and the b1 are independent. This is because the b was recursively copied,\n",
    "which is true for all its nested objects."
   ]
  }
 ],
 "metadata": {
  "kernelspec": {
   "display_name": "Python 3",
   "language": "python",
   "name": "python3"
  },
  "language_info": {
   "codemirror_mode": {
    "name": "ipython",
    "version": 3
   },
   "file_extension": ".py",
   "mimetype": "text/x-python",
   "name": "python",
   "nbconvert_exporter": "python",
   "pygments_lexer": "ipython3",
   "version": "3.8.8"
  }
 },
 "nbformat": 4,
 "nbformat_minor": 5
}
