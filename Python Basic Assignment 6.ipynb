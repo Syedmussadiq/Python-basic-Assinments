{
 "cells": [
  {
   "cell_type": "code",
   "execution_count": null,
   "id": "2ba7bdd6",
   "metadata": {},
   "outputs": [],
   "source": [
    "1. What are escape characters, and how do you use them?"
   ]
  },
  {
   "cell_type": "code",
   "execution_count": null,
   "id": "bba25ebd",
   "metadata": {},
   "outputs": [],
   "source": [
    "#ANS:\n",
    "An escape character is a backslash \\ followed by the character you want to insert.\n",
    "To insert characters that are illegal in a string, use an escape character\n",
    "An example of an illegal character is a double quote inside a string that is surrounded by double quotes:\n",
    "a = \"i am pursuing \"FSDS\" course from Ineuron\""
   ]
  },
  {
   "cell_type": "code",
   "execution_count": null,
   "id": "1cc9caf8",
   "metadata": {},
   "outputs": [],
   "source": [
    "2. What do the escape characters n and t stand for?"
   ]
  },
  {
   "cell_type": "code",
   "execution_count": 1,
   "id": "7042ac90",
   "metadata": {},
   "outputs": [
    {
     "name": "stdout",
     "output_type": "stream",
     "text": [
      "Hello\n",
      "World!\n",
      "Hello\tWorld!\n"
     ]
    }
   ],
   "source": [
    " ANS:\n",
    "\\n stands for new line \n",
    "txt = \"Hello\\nWorld!\"\n",
    "print(txt)\n",
    "\n",
    " \\t stands for tab \n",
    "txt = \"Hello\\tWorld!\"\n",
    "print(txt) "
   ]
  },
  {
   "cell_type": "code",
   "execution_count": null,
   "id": "7a669de4",
   "metadata": {},
   "outputs": [],
   "source": [
    "3. What is the way to include backslash characters in a string?"
   ]
  },
  {
   "cell_type": "code",
   "execution_count": 3,
   "id": "98ce6e38",
   "metadata": {},
   "outputs": [
    {
     "name": "stdout",
     "output_type": "stream",
     "text": [
      "i am pursuing FSDS course \\ from Ineuron\n"
     ]
    }
   ],
   "source": [
    "ANS:\n",
    "the way to include backslash characters in a string are \\\\\n",
    "a = \"i am pursuing FSDS course \\\\ from Ineuron\"\n",
    "print(a) \n"
   ]
  },
  {
   "cell_type": "code",
   "execution_count": null,
   "id": "59d32a20",
   "metadata": {},
   "outputs": [],
   "source": [
    "4. The string \"Howl's Moving Castle\" is a correct value. Why isn't the single quote character in the word Howl's not\n",
    "escaped a problem?\n"
   ]
  },
  {
   "cell_type": "code",
   "execution_count": 4,
   "id": "8cb8ab31",
   "metadata": {},
   "outputs": [
    {
     "data": {
      "text/plain": [
       "\"Howl's Moving Castle\""
      ]
     },
     "execution_count": 4,
     "metadata": {},
     "output_type": "execute_result"
    }
   ],
   "source": [
    "ANS:\n",
    "because we have used double quotes to mark the beginning and end of the string\n",
    "\"Howl's Moving Castle\""
   ]
  },
  {
   "cell_type": "code",
   "execution_count": null,
   "id": "8bcd050d",
   "metadata": {},
   "outputs": [],
   "source": [
    "5. How do you write a string of newlines if you don't want to use the n character?"
   ]
  },
  {
   "cell_type": "markdown",
   "id": "14c204a4",
   "metadata": {},
   "source": [
    "ANS:\n",
    "Just by useing  \\n ; Python automatically translates that to the proper newline character of our platform."
   ]
  },
  {
   "cell_type": "code",
   "execution_count": null,
   "id": "d792e05a",
   "metadata": {},
   "outputs": [],
   "source": [
    "6. What are the values of the given expressions?\n",
    "'Hello, world!'[1]\n",
    "'Hello, world!'[0:5]\n",
    "'Hello, world!'[:5]\n",
    "'Hello, world!'[3:]"
   ]
  },
  {
   "cell_type": "markdown",
   "id": "8d62d107",
   "metadata": {},
   "source": [
    "ANS:\n",
    "The values of the given expressions are:\n",
    "Input ---> 'Hello, world!'[1] it indexing from 0 to 1 \n",
    "Output ---->   'e'\n",
    "\n",
    "Input ---> 'Hello, world!'[0:5] it indexing from 0 to 5\n",
    "Output ---->  'Hello'\n",
    "\n",
    "Input ---> 'Hello, world!'[:5] it indexing from 0 to 5\n",
    "Output ----> 'Hello'\n",
    "\n",
    "Input ---> 'Hello, world!'[3:]  it indexing from 3 till last\n",
    "Output ----> 'lo, world!'"
   ]
  },
  {
   "cell_type": "code",
   "execution_count": null,
   "id": "0d524c61",
   "metadata": {},
   "outputs": [],
   "source": [
    "7. What are the values of the following expressions?\n",
    "'Hello'.upper()\n",
    "'Hello'.upper().isupper()\n",
    "'Hello'.upper().lower()\n"
   ]
  },
  {
   "cell_type": "markdown",
   "id": "ea5dea5a",
   "metadata": {},
   "source": [
    "ANS:\n",
    "The values of the following expressions are:\n",
    "Input ---> 'Hello'.upper() - this converts value to upper case\n",
    "Output---->  'HELLO'\n",
    "\n",
    "Input ---> 'Hello'.upper().isupper() - Check if all the characters in the text are in upper case and gives output in                                              Boolean\n",
    "Output----> True\n",
    "\n",
    "Input ---> 'Hello'.upper().lower() - this converts value to lower case\n",
    "Output---->  'hello'  "
   ]
  },
  {
   "cell_type": "code",
   "execution_count": null,
   "id": "2402de03",
   "metadata": {},
   "outputs": [],
   "source": [
    "8. What are the values of the following expressions?\n",
    "'Remember, remember, the fifth of July.'.split()\n",
    "'-'.join('There can only one.'.split())\n"
   ]
  },
  {
   "cell_type": "markdown",
   "id": "765f00a5",
   "metadata": {},
   "source": [
    "ANS:\n",
    "The expressions evaluate to the following:\n",
    "\n",
    "['Remember,', 'remember,', 'the', 'fifth', 'of', 'July.']\n",
    "\n",
    "'There-can-only-one."
   ]
  },
  {
   "cell_type": "code",
   "execution_count": null,
   "id": "04524dd8",
   "metadata": {},
   "outputs": [],
   "source": [
    "9. What are the methods for right-justifying, left-justifying, and centering a string?"
   ]
  },
  {
   "cell_type": "markdown",
   "id": "fd7103a6",
   "metadata": {},
   "source": [
    "ANS:\n",
    "The methods for  right-justifying is - rjust(), \n",
    "The methods for  left-justifying is  - ljust(),\n",
    "The methods for  centering is        - center()"
   ]
  },
  {
   "cell_type": "code",
   "execution_count": null,
   "id": "438fa416",
   "metadata": {},
   "outputs": [],
   "source": [
    "10. What is the best way to remove whitespace characters from the start or end?"
   ]
  },
  {
   "cell_type": "markdown",
   "id": "9973ec5b",
   "metadata": {},
   "source": [
    "ANS:\n",
    "To remove whitespace characters from the beginning or from the end of the string, is\n",
    "trimStart() or trimEnd() method."
   ]
  }
 ],
 "metadata": {
  "kernelspec": {
   "display_name": "Python 3",
   "language": "python",
   "name": "python3"
  },
  "language_info": {
   "codemirror_mode": {
    "name": "ipython",
    "version": 3
   },
   "file_extension": ".py",
   "mimetype": "text/x-python",
   "name": "python",
   "nbconvert_exporter": "python",
   "pygments_lexer": "ipython3",
   "version": "3.8.8"
  }
 },
 "nbformat": 4,
 "nbformat_minor": 5
}
