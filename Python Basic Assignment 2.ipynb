{
 "cells": [
  {
   "cell_type": "code",
   "execution_count": null,
   "id": "d5078708",
   "metadata": {},
   "outputs": [],
   "source": [
    "1.What are the two values of the Boolean data type? How do you write them?"
   ]
  },
  {
   "cell_type": "markdown",
   "id": "19a21657",
   "metadata": {},
   "source": [
    "Ans:\n",
    "    The two values of the Boolean data is -TRUE(1) and FALSE(0)\n",
    "    we write them using Comaprison operators, and Boolean logic"
   ]
  },
  {
   "cell_type": "code",
   "execution_count": null,
   "id": "a5576a8b",
   "metadata": {},
   "outputs": [],
   "source": [
    "2. What are the three different types of Boolean operators?"
   ]
  },
  {
   "cell_type": "markdown",
   "id": "b2c76f74",
   "metadata": {},
   "source": [
    "Ans:\n",
    "    The three types of Boolean operators are\n",
    "    1.AND\n",
    "    2.OR\n",
    "    3.NOT"
   ]
  },
  {
   "cell_type": "code",
   "execution_count": null,
   "id": "01bac7fb",
   "metadata": {},
   "outputs": [],
   "source": [
    "3. Make a list of each Boolean operator's \n",
    "truth tables (i.e. every possible combination of Boolean values for the operator and what it evaluate )."
   ]
  },
  {
   "cell_type": "markdown",
   "id": "7e5502e7",
   "metadata": {},
   "source": [
    "ANS:\n",
    "    AND - It states both the input values to be true,to get the output as True.\n",
    "        TRUE  - TRUE  = TRUE \n",
    "        FALSE - TRUE  = FALSE\n",
    "        TRUE  - FALSE = FALSE\n",
    "        FALSE - FALSE = FALSE\n",
    "        \n",
    "    OR- It states any one of the given two input to be true, to get the output as True.\n",
    "        TRUE  - TRUE  =  TRUE\n",
    "        TRUE  - FALSE =  TRUE\n",
    "        FALSE - TRUE  =  TRUE\n",
    "        FALSE - FALSE = FALSE\n",
    "        \n",
    "    NOT- It states the value is true if the given input is false and vice versa\n",
    "        TRUE  = FALSE\n",
    "        FALSE = TRUE\n",
    "    "
   ]
  },
  {
   "cell_type": "code",
   "execution_count": null,
   "id": "4dfe8a2d",
   "metadata": {},
   "outputs": [],
   "source": [
    "4. What are the values of the following expressions?\n",
    "    (5 > 4) and (3 == 5)\n",
    "    not (5 > 4)\n",
    "    (5 > 4) or (3 == 5)\n",
    "    not ((5 > 4) or (3 == 5))\n",
    "    (True and True) and (True == False)\n",
    "    (not False) or (not True)\n"
   ]
  },
  {
   "cell_type": "markdown",
   "id": "545fdbcb",
   "metadata": {},
   "source": [
    "ANS:\n",
    "    (5 > 4) and (3 == 5) --------------- = False\n",
    "     not (5 > 4) ----------------------- = False\n",
    "    (5 > 4) or (3 == 5)------------------= True\n",
    "    not ((5 > 4) or (3 == 5))------------= False\n",
    "    (True and True) and (True == False)--= False\n",
    "    (not False) or (not True)----------- = True"
   ]
  },
  {
   "cell_type": "code",
   "execution_count": null,
   "id": "01a1c922",
   "metadata": {},
   "outputs": [],
   "source": [
    "5. What are the six comparison operators?"
   ]
  },
  {
   "cell_type": "markdown",
   "id": "2c98e0a0",
   "metadata": {},
   "source": [
    "ANS:\n",
    "    EQUAL - (==)\n",
    "    NOT Equal - (!=)\n",
    "    Greater Than - (>)\n",
    "    Lesser Than - (<)\n",
    "    Greater then or Equal to - (>=)\n",
    "    Lesser than or equal to - (<=)"
   ]
  },
  {
   "cell_type": "code",
   "execution_count": null,
   "id": "8fe9992b",
   "metadata": {},
   "outputs": [],
   "source": [
    "6. How do you tell the difference between the equal to and assignment operators?\n",
    "Describe a condition and when you would use one."
   ]
  },
  {
   "cell_type": "markdown",
   "id": "f36dfef8",
   "metadata": {},
   "source": [
    "ANS:\n",
    "    The \"=\" is an assignment operator is used to assign the value on the right to the variable.\n",
    "        Example: a=10; where (a) is variable and \"=\" is Assignment value\n",
    "        \n",
    "    The ‘==’ operator checks whether the two given operands are equal or not. If so, it returns true. \n",
    "    Otherwise it returns false.\n",
    "        Example: a==b is valid and returns True.\n",
    "    \n",
    "a=10\n",
    "b=10\n",
    "a==b"
   ]
  },
  {
   "cell_type": "code",
   "execution_count": null,
   "id": "1cde09a1",
   "metadata": {},
   "outputs": [],
   "source": [
    "7. Identify the three blocks in this code:\n",
    "spam = 0\n",
    "if spam == 10:\n",
    "print('eggs')\n",
    "if spam > 5:\n",
    "print('bacon')\n",
    "else:\n",
    "print('ham')\n",
    "print('spam')\n",
    "print('spam')\n"
   ]
  },
  {
   "cell_type": "code",
   "execution_count": 6,
   "id": "94df3553",
   "metadata": {},
   "outputs": [
    {
     "name": "stdout",
     "output_type": "stream",
     "text": [
      "4\n",
      "ham\n",
      "spam\n",
      "spam\n"
     ]
    }
   ],
   "source": [
    "ANS:\n",
    "    spam = int(input())  #Input given as 4\n",
    "if spam == 10:\n",
    "    print('eggs')\n",
    "if spam > 5:\n",
    "    print('bacon')\n",
    "else:\n",
    "    print('ham')\n",
    "    print('spam')\n",
    "    print('spam')"
   ]
  },
  {
   "cell_type": "code",
   "execution_count": null,
   "id": "18d93441",
   "metadata": {},
   "outputs": [],
   "source": [
    "8. Write code that prints Hello if 1 is stored in spam, prints Howdy if 2 is stored in spam, \n",
    "    and prints Greetings! if anything else is stored in spam."
   ]
  },
  {
   "cell_type": "code",
   "execution_count": 26,
   "id": "423b6911",
   "metadata": {},
   "outputs": [
    {
     "name": "stdout",
     "output_type": "stream",
     "text": [
      "5\n",
      "Greetings!\n"
     ]
    }
   ],
   "source": [
    "ANS:\n",
    "    spam = int(input())\n",
    "if spam == 1:\n",
    "    print(\"Hello\")\n",
    "elif spam == 2:\n",
    "    print(\"Howdy\")\n",
    "else:\n",
    "    print(\"Greetings!\")"
   ]
  },
  {
   "cell_type": "code",
   "execution_count": null,
   "id": "18fd4062",
   "metadata": {},
   "outputs": [],
   "source": [
    "9.If your programme is stuck in an endless loop, what keys you’ll press?"
   ]
  },
  {
   "cell_type": "markdown",
   "id": "aad77d97",
   "metadata": {},
   "source": [
    "ANS:\n",
    "    If programme is stuck in an endless loop we can press Ctrl+C to escape it."
   ]
  },
  {
   "cell_type": "code",
   "execution_count": null,
   "id": "bb7436eb",
   "metadata": {},
   "outputs": [],
   "source": [
    "10. How can you tell the difference between break and continue?"
   ]
  },
  {
   "cell_type": "markdown",
   "id": "ff6f3a53",
   "metadata": {},
   "source": [
    "ANS:\n",
    "    The difference between Break and Continue are:\n",
    "        \n",
    "    1.Break= This statement is used to eliminate or breaks the loop immediately if the condition is satisfied\n",
    "    \n",
    "    2.continue = This statement is used to skip the iteration if the condition is satisfied. \n",
    "    in some cases we want the second iteration to be stop at that we can use continue statement."
   ]
  },
  {
   "cell_type": "code",
   "execution_count": null,
   "id": "809a77bd",
   "metadata": {},
   "outputs": [],
   "source": [
    "11. In a for loop, what is the difference between range(10), range(0, 10), and range(0, 10, 1)?"
   ]
  },
  {
   "cell_type": "markdown",
   "id": "29e67069",
   "metadata": {},
   "source": [
    "ANS:\n",
    "# The range function move default which starts from zero\n",
    "1. input = for i in range(10): \n",
    "        print(i)\n",
    "Output = 0 1 2 3 4 5 6 7 8 9 in (Vertical)\n",
    "\n",
    "# The range funcion starts from zero and move till 10 excluding the last number\n",
    "2. input = for i in range(0, 10):\n",
    "        print(i)\n",
    "Output = 0 1 2 3 4 5 6 7 8 9 in (Vertical)\n",
    "\n",
    "# The range function starts from zero and move till 10 with a jump of 1\n",
    "3. input = for i in range(0, 10,1):\n",
    "        print(i)\n",
    "Output = 0 1 2 3 4 5 6 7 8 9 in (Vertical)\n"
   ]
  },
  {
   "cell_type": "code",
   "execution_count": null,
   "id": "dee8b3b1",
   "metadata": {},
   "outputs": [],
   "source": [
    "12. Write a short program that prints the numbers 1 to 10 using a for loop. \n",
    "    Then write an equivalent program that prints the numbers 1 to 10 using a while loop."
   ]
  },
  {
   "cell_type": "code",
   "execution_count": 3,
   "id": "1cf4997b",
   "metadata": {},
   "outputs": [
    {
     "name": "stdout",
     "output_type": "stream",
     "text": [
      "0\n",
      "1\n",
      "2\n",
      "3\n",
      "4\n",
      "5\n",
      "6\n",
      "7\n",
      "8\n",
      "9\n",
      "10\n"
     ]
    }
   ],
   "source": [
    "ANS: \n",
    "1. programme using for loop\n",
    "for i in range(11):\n",
    "    print(i)"
   ]
  },
  {
   "cell_type": "code",
   "execution_count": 1,
   "id": "065ed56d",
   "metadata": {},
   "outputs": [
    {
     "name": "stdout",
     "output_type": "stream",
     "text": [
      "0\n",
      "1\n",
      "2\n",
      "3\n",
      "4\n",
      "5\n",
      "6\n",
      "7\n",
      "8\n",
      "9\n",
      "10\n"
     ]
    }
   ],
   "source": [
    "2. Programme using while loop\n",
    "a = 0\n",
    "while a <=11:\n",
    "    print(a)\n",
    "    a +=1\n",
    "    if a ==11:\n",
    "        break\n",
    "    "
   ]
  },
  {
   "cell_type": "code",
   "execution_count": null,
   "id": "d5fe7238",
   "metadata": {},
   "outputs": [],
   "source": [
    "13. If you had a function named bacon() inside a module named spam, how would you call it after importing spam?"
   ]
  },
  {
   "cell_type": "markdown",
   "id": "089b453f",
   "metadata": {},
   "source": [
    "ANS:\n",
    "    spam.bacon()"
   ]
  }
 ],
 "metadata": {
  "kernelspec": {
   "display_name": "Python 3",
   "language": "python",
   "name": "python3"
  },
  "language_info": {
   "codemirror_mode": {
    "name": "ipython",
    "version": 3
   },
   "file_extension": ".py",
   "mimetype": "text/x-python",
   "name": "python",
   "nbconvert_exporter": "python",
   "pygments_lexer": "ipython3",
   "version": "3.8.8"
  }
 },
 "nbformat": 4,
 "nbformat_minor": 5
}
