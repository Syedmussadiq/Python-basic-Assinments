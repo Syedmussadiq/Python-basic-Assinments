{
 "cells": [
  {
   "cell_type": "code",
   "execution_count": 6,
   "id": "c2e75a08",
   "metadata": {},
   "outputs": [
    {
     "name": "stdout",
     "output_type": "stream",
     "text": [
      "Requirement already satisfied: PyInputPlus in c:\\users\\user\\anaconda3\\lib\\site-packages (0.2.12)\n",
      "Requirement already satisfied: stdiomask>=0.0.3 in c:\\users\\user\\anaconda3\\lib\\site-packages (from PyInputPlus) (0.0.6)\n",
      "Requirement already satisfied: pysimplevalidate>=0.2.7 in c:\\users\\user\\anaconda3\\lib\\site-packages (from PyInputPlus) (0.2.12)\n"
     ]
    }
   ],
   "source": [
    "!pip install PyInputPlus"
   ]
  },
  {
   "cell_type": "code",
   "execution_count": 11,
   "id": "53dc9a85",
   "metadata": {},
   "outputs": [],
   "source": [
    "import pyinputplus as pyip"
   ]
  },
  {
   "cell_type": "code",
   "execution_count": null,
   "id": "f772f15e",
   "metadata": {},
   "outputs": [],
   "source": [
    "1. Is the Python Standard Library included with PyInputPlus?"
   ]
  },
  {
   "cell_type": "code",
   "execution_count": null,
   "id": "06d815b7",
   "metadata": {},
   "outputs": [],
   "source": [
    "ANS:\n",
    "    PyInputPlus is not a part of the Python Standard Library, so you must install it separately using Pip\n",
    "    \n",
    "eg: !pip install pyInputPlus"
   ]
  },
  {
   "cell_type": "code",
   "execution_count": null,
   "id": "57ea4051",
   "metadata": {},
   "outputs": [],
   "source": [
    "2. Why is PyInputPlus commonly imported with import pyinputplus as pypi?"
   ]
  },
  {
   "cell_type": "code",
   "execution_count": null,
   "id": "3b1a3866",
   "metadata": {},
   "outputs": [],
   "source": [
    "ANS:\n",
    "    You can import the module with import pyinputplus as pyip so that you can enter a \n",
    "    shorter name when calling the module's functions"
   ]
  },
  {
   "cell_type": "code",
   "execution_count": null,
   "id": "583f6e6f",
   "metadata": {},
   "outputs": [],
   "source": [
    "3. How do you distinguish between inputInt() and inputFloat()?"
   ]
  },
  {
   "cell_type": "code",
   "execution_count": null,
   "id": "195ab6ea",
   "metadata": {},
   "outputs": [],
   "source": [
    "ANS:\n",
    "    The inputInt() function returns an integer, while the inputFloat() function returns a float value"
   ]
  },
  {
   "cell_type": "code",
   "execution_count": null,
   "id": "03a1d72c",
   "metadata": {},
   "outputs": [],
   "source": [
    "4. Using PyInputPlus, how do you ensure that the user enters a whole number between 0 and 99?"
   ]
  },
  {
   "cell_type": "code",
   "execution_count": null,
   "id": "0bd378a8",
   "metadata": {},
   "outputs": [],
   "source": [
    "ANS:\n",
    "    we ensure the user enters a whole number between 0 and 99 are:\n",
    "    \n",
    "Use the int() Function to Check if the Input Is an Integer in Python.\n",
    "Use the isnumeric() Method to Check if the Input Is an Integer or Not.\n",
    "Use the Regular Expressions to Check if the Input Is an Integer in Python."
   ]
  },
  {
   "cell_type": "code",
   "execution_count": null,
   "id": "53dcf631",
   "metadata": {},
   "outputs": [],
   "source": [
    "5. What is transferred to the keyword arguments allowRegexes and blockRegexes?"
   ]
  },
  {
   "cell_type": "code",
   "execution_count": null,
   "id": "46376ed8",
   "metadata": {},
   "outputs": [],
   "source": [
    "Ans. We can also use regular expressions to specify whether an input is allowed or not. The allowRegexes and blockRegexes\n",
    "keyword arguments take a list of regular expression strings to determine what the PyInputPlus function will\n",
    "accept or reject as valid input."
   ]
  },
  {
   "cell_type": "code",
   "execution_count": null,
   "id": "f4522800",
   "metadata": {},
   "outputs": [],
   "source": [
    "6. If a blank input is entered three times, what does inputStr(limit=3) do?"
   ]
  },
  {
   "cell_type": "code",
   "execution_count": null,
   "id": "fa5fdf2c",
   "metadata": {},
   "outputs": [],
   "source": [
    "Ans. It will throw RetryLimitException exception."
   ]
  },
  {
   "cell_type": "code",
   "execution_count": null,
   "id": "3c71cc1a",
   "metadata": {},
   "outputs": [],
   "source": [
    "7. If blank input is entered three times, what does inputStr(limit=3, default='hello') do?"
   ]
  },
  {
   "cell_type": "code",
   "execution_count": null,
   "id": "d21e3b5e",
   "metadata": {},
   "outputs": [],
   "source": [
    "ANS. When you use limit keyword arguments and also pass a default keyword argument, \n",
    "the function returns the default value instead of raising an exception"
   ]
  },
  {
   "cell_type": "code",
   "execution_count": 12,
   "id": "9036f2f5",
   "metadata": {},
   "outputs": [
    {
     "name": "stdout",
     "output_type": "stream",
     "text": [
      "\n",
      "Blank values are not allowed.\n",
      "\n",
      "Blank values are not allowed.\n",
      "\n",
      "Blank values are not allowed.\n"
     ]
    },
    {
     "data": {
      "text/plain": [
       "'hello'"
      ]
     },
     "execution_count": 12,
     "metadata": {},
     "output_type": "execute_result"
    }
   ],
   "source": [
    "response = pyip.inputStr(limit=3,default='hello')\n",
    "response"
   ]
  }
 ],
 "metadata": {
  "kernelspec": {
   "display_name": "Python 3 (ipykernel)",
   "language": "python",
   "name": "python3"
  },
  "language_info": {
   "codemirror_mode": {
    "name": "ipython",
    "version": 3
   },
   "file_extension": ".py",
   "mimetype": "text/x-python",
   "name": "python",
   "nbconvert_exporter": "python",
   "pygments_lexer": "ipython3",
   "version": "3.9.7"
  }
 },
 "nbformat": 4,
 "nbformat_minor": 5
}
