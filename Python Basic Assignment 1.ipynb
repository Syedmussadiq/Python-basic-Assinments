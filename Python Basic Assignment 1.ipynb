{
 "cells": [
  {
   "cell_type": "code",
   "execution_count": null,
   "id": "b3aaf580",
   "metadata": {},
   "outputs": [],
   "source": [
    "1. In the below elements which of them are values or an expression? eg:- values can be integer or string and expressions will be mathematical operators.\n",
    "* \n",
    "'hello'\n",
    "-87.8\n",
    "- \n",
    "/ \n",
    "+\t\n",
    "6 \n"
   ]
  },
  {
   "cell_type": "code",
   "execution_count": null,
   "id": "e74630b6",
   "metadata": {},
   "outputs": [],
   "source": [
    "Ans. \tValues are = (‘hello’,-87.8, 6 )  and   expressions are =( *, -, /, +)"
   ]
  },
  {
   "cell_type": "code",
   "execution_count": null,
   "id": "e27f39bf",
   "metadata": {},
   "outputs": [],
   "source": [
    "2. What is the difference between string and variable?"
   ]
  },
  {
   "cell_type": "code",
   "execution_count": null,
   "id": "e3f45738",
   "metadata": {},
   "outputs": [],
   "source": [
    "Ans.\n",
    "String:\n",
    "1.\tThe string consists a value within single quotes or double quotes or even triple quotes.\n",
    "2.\tPython strings are Immutable, and they cannot changed after they are created\n",
    "3.\tPython has a built in string class named str .\n",
    "\n",
    "Variable:\n",
    "1.\tThe variables are the symbols which we can store data in our program\n",
    "2.\tThe name of the variable always start with Alphabets Capital letters (A), small letters(a)  and an underscore( _ )\n",
    "3.\tIt has two types of variables Local variable and global variable\n"
   ]
  },
  {
   "cell_type": "code",
   "execution_count": null,
   "id": "184211a2",
   "metadata": {},
   "outputs": [],
   "source": [
    "3. Describe three different data types."
   ]
  },
  {
   "cell_type": "code",
   "execution_count": null,
   "id": "442a7fa7",
   "metadata": {},
   "outputs": [],
   "source": [
    "ANS. \n",
    "Everything is an object in Python programming, Every value in python has a datatype the different data types which describes as \n",
    "String, numbers and List\n",
    "\n",
    "1.\tString - \n",
    "The string consists a value within single quotes or double quotes or even triple quotes.  \n",
    "This is an immutable data type, which cannot be modify nor change, \n",
    "it has a built in string class named str. \n",
    "We can use the type() function to know which class a variable or a value belongs to\n",
    "\n",
    "2.\tNumbers - \n",
    "This is an immutable data type, which cannot be modify nor change. \n",
    "In python numbers includes integers, floating point numbers and complex numbers , \n",
    "they are defined as classes as  int, float and complex in python,\n",
    "We can use the type() function to know which class a variable or a value belongs to\n",
    "\n",
    "3.\tList - This is mutable data type, which can be modify or change. \n",
    "Lists are the group of values within [ ], \n",
    "it is one of the most used datatype in Python and is very flexible. \n",
    "All the items in a list do not need to be of the same type. \n",
    "We can use the slicing operator [ ] to extract an item or a range of items from a list. \n"
   ]
  },
  {
   "cell_type": "code",
   "execution_count": null,
   "id": "c050fd1d",
   "metadata": {},
   "outputs": [],
   "source": [
    "4. What is an expression made up of? What do all expressions do?"
   ]
  },
  {
   "cell_type": "code",
   "execution_count": null,
   "id": "b2790b8f",
   "metadata": {},
   "outputs": [],
   "source": [
    "Ans. \n",
    "An expression is a combination of values, variables, operators, and calls to functions. Expressions need to be evaluated.\n",
    "We have many different types of expressions in Python. some of them are:\n",
    "\n",
    "1. Arithmetic Expressions: \n",
    "                    it is a combination of numeric values, operators, and sometimes parenthesis.\n",
    "The operators used in these expressions are arithmetic operators like addition, subtraction, etc.\n",
    "\n",
    "2. Floating Expressions:\n",
    "            These are the kind of expressions which produce floating point numbers as result after all \n",
    "computations and type conversions.\n",
    "\n",
    "3. Boolean Expressions: \n",
    "            In these types of expressions, arithmetic expressions are written on both sides of relational operator (> , < , >= , <=). \n",
    "Those arithmetic expressions are evaluated first, and then compared as per relational operator and produce a Boolean output in the end. \n",
    "\n",
    "4. Logical Expressions: \n",
    "            These are kinds of expressions that result in either True or False. It basically specifies one or more conditions. \n",
    "For example, (10 == 9) is a condition if 10 is equal to 9. As we know it is not correct, so it will return False. \n",
    "Here are some logical operators in Python: (and , or,  not)\n"
   ]
  },
  {
   "cell_type": "code",
   "execution_count": null,
   "id": "1a3efd71",
   "metadata": {},
   "outputs": [],
   "source": [
    "5. This assignment statements, like spam = 10. What is the difference between an expression and a statement?"
   ]
  },
  {
   "cell_type": "code",
   "execution_count": null,
   "id": "2cc45f46",
   "metadata": {},
   "outputs": [],
   "source": [
    "Ans:\n",
    "    An expression is a combination of values, variables, operators, and calls to functions. \n",
    "the statement is just like a command that a python interpreter executes like print"
   ]
  },
  {
   "cell_type": "code",
   "execution_count": 2,
   "id": "476d91ee",
   "metadata": {},
   "outputs": [
    {
     "data": {
      "text/plain": [
       "23"
      ]
     },
     "execution_count": 2,
     "metadata": {},
     "output_type": "execute_result"
    }
   ],
   "source": [
    "6. After running the following code, what does the variable bacon contain?\n",
    "bacon = 22\n",
    "bacon + 1\n"
   ]
  },
  {
   "cell_type": "code",
   "execution_count": null,
   "id": "a44f30f0",
   "metadata": {},
   "outputs": [],
   "source": [
    "Ans:\n",
    "    it Contains 22 and +1 as integer and gives output as 23"
   ]
  },
  {
   "cell_type": "code",
   "execution_count": 4,
   "id": "3038c87c",
   "metadata": {},
   "outputs": [
    {
     "data": {
      "text/plain": [
       "'spamspamspam'"
      ]
     },
     "execution_count": 4,
     "metadata": {},
     "output_type": "execute_result"
    }
   ],
   "source": [
    "7. What should the values of the following two terms be?\n",
    "'spam' + 'spamspam'"
   ]
  },
  {
   "cell_type": "code",
   "execution_count": 5,
   "id": "ee92a9b7",
   "metadata": {},
   "outputs": [
    {
     "data": {
      "text/plain": [
       "'spamspamspam'"
      ]
     },
     "execution_count": 5,
     "metadata": {},
     "output_type": "execute_result"
    }
   ],
   "source": [
    "'spam' * 3"
   ]
  },
  {
   "cell_type": "code",
   "execution_count": null,
   "id": "cf878e84",
   "metadata": {},
   "outputs": [],
   "source": [
    "Ans:\n",
    "    the following two terms are concatenation (spamspamspam)"
   ]
  },
  {
   "cell_type": "code",
   "execution_count": null,
   "id": "02de26ed",
   "metadata": {},
   "outputs": [],
   "source": [
    "8. Why is eggs a valid variable name while 100 is invalid?"
   ]
  },
  {
   "cell_type": "code",
   "execution_count": 7,
   "id": "a0d5f97b",
   "metadata": {},
   "outputs": [],
   "source": [
    "Ans:\n",
    "    in Python Variable should start from Alphabet or an underscore but not with an integer or number\n",
    "hence eggs are valid variable and 100 are invalid variable"
   ]
  },
  {
   "cell_type": "code",
   "execution_count": null,
   "id": "3568ed0c",
   "metadata": {},
   "outputs": [],
   "source": [
    "9. What three functions can be used to get the integer, floating-point number, or string version of a value?"
   ]
  },
  {
   "cell_type": "code",
   "execution_count": null,
   "id": "798f15a3",
   "metadata": {},
   "outputs": [],
   "source": [
    "Ans:\n",
    "    the three functions can be used to get the integer, floating number and string value are\n",
    "str(), int(), float()"
   ]
  },
  {
   "cell_type": "code",
   "execution_count": 9,
   "id": "1776db06",
   "metadata": {},
   "outputs": [],
   "source": [
    "10. Why does this expression cause an error? How can you fix it?\n",
    "'I have eaten ' + 99 + ' burritos.'\n"
   ]
  },
  {
   "cell_type": "code",
   "execution_count": null,
   "id": "d388fc43",
   "metadata": {},
   "outputs": [],
   "source": [
    "Ans:\n",
    "    it only concatenate string but here integer has mentioned, hence integer cannot  be concatenate with string,\n",
    "    if we have to do then we have to do typecasting"
   ]
  }
 ],
 "metadata": {
  "kernelspec": {
   "display_name": "Python 3",
   "language": "python",
   "name": "python3"
  },
  "language_info": {
   "codemirror_mode": {
    "name": "ipython",
    "version": 3
   },
   "file_extension": ".py",
   "mimetype": "text/x-python",
   "name": "python",
   "nbconvert_exporter": "python",
   "pygments_lexer": "ipython3",
   "version": "3.8.8"
  }
 },
 "nbformat": 4,
 "nbformat_minor": 5
}
